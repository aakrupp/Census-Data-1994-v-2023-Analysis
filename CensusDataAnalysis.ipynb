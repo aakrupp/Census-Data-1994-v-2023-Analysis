{
 "cells": [
  {
   "cell_type": "markdown",
   "id": "871ce9be-6c7d-4a34-83e5-31d3309d1cc3",
   "metadata": {},
   "source": [
    "# Documentation \n",
    "### The data is of the form: \n",
    "* Column 1: age (int) \n",
    "* Column 2: Workclass (string), 8 options: \n",
    "    * Private \n",
    "    * Self-emp-not-inc \n",
    "    * Self-emp-inc \n",
    "    * Federal-gov\n",
    "    * Local-gov\n",
    "    * State-gov \n",
    "    * Without-pay\n",
    "    * Never-worked\n",
    "* Column 3: final weight (int) \n",
    "    * will be excluded from our model because this value has no effect on whether the person makes above 50k \n",
    "* Column 4: Education (string), 16 options: \n",
    "    * Bachelors \n",
    "    * Some-college\n",
    "    * 11th \n",
    "    * HS-grad \n",
    "    * Prof-school\n",
    "    * Assoc-acdm \n",
    "    * Assoc-voc \n",
    "    * 9th \n",
    "    * 7th-8th \n",
    "    * 12th\n",
    "    * Masters \n",
    "    * 1st-4th\n",
    "    * 10th \n",
    "    * Doctorate \n",
    "    * 5th-6th \n",
    "    * Preschool\n",
    "* Column 5: Education number (int) \n",
    "* Column 6: Marital status (string), 7 options: \n",
    "    * Married-civ-spouse\n",
    "    * Divorced\n",
    "    * Never-married\n",
    "    * Separated\n",
    "    * Widowed\n",
    "    * Married-spouse-absent\n",
    "    * Married-AF-spouse\n",
    "* Column 7: Occupation (string), 14 options: \n",
    "    * Tech-support\n",
    "    * Craft-repair\n",
    "    * Other-service\n",
    "    * Sales\n",
    "    * Exec-managerial\n",
    "    * Prof-specialty\n",
    "    * Handlers-cleaners\n",
    "    * Machine-op-inspct\n",
    "    * Adm-clerical\n",
    "    * Farming-fishing\n",
    "    * Transport-moving\n",
    "    * Priv-house-serv\n",
    "    * Protective-serv\n",
    "    * Armed-Forces\n",
    "* Column 8: relationship (string), 6 options: \n",
    "    * Wife\n",
    "    * Own-child\n",
    "    * Husband\n",
    "    * Not-in-family\n",
    "    * Other-relative\n",
    "    * Unmarried\n",
    "* Column 9: race (string), 5 options: \n",
    "    * White\n",
    "    * Asian-Pac-Islander\n",
    "    * Amer-Indian-Eskimo\n",
    "    * Other\n",
    "    * Black\n",
    "* Column 10: sex (string), 2 options: \n",
    "    * male \n",
    "    * female \n",
    "* Column 11: capital-gain (int) \n",
    "* Column 12: capital-loss (int) \n",
    "* Column 13: hours per week (int) \n",
    "* Column 14: country of origin (string), 41 options: \n",
    "    * United-States\n",
    "    * Cambodia\n",
    "    * England\n",
    "    * Puerto-Rico\n",
    "    * Canada\n",
    "    * Germany\n",
    "    * Outlying-US(Guam-USVI-etc)\n",
    "    * India\n",
    "    * Japan\n",
    "    * Greece\n",
    "    * South\n",
    "    * China\n",
    "    * Cuba\n",
    "    * Iran\n",
    "    * Honduras\n",
    "    * Philippines\n",
    "    * Italy\n",
    "    * Poland\n",
    "    * Jamaica\n",
    "    * Vietnam\n",
    "    * Mexico\n",
    "    * Portugal\n",
    "    * Ireland\n",
    "    * France\n",
    "    * Dominican-Republic\n",
    "    * Laos\n",
    "    * Ecuador\n",
    "    * Taiwan\n",
    "    * Haiti\n",
    "    * Columbia\n",
    "    * Hungary\n",
    "    * Guatemala\n",
    "    * Nicaragua\n",
    "    * Scotland\n",
    "    * Thailand\n",
    "    * Yugoslavia\n",
    "    * El-Salvador\n",
    "    * Trinadad&Tobago\n",
    "    * Peru\n",
    "    * Hong\n",
    "    * Holand-Netherlands  \n",
    "* Column 15: whether the person made above of below 50k, (string)  \n",
    "\n",
    "__NOTE: all columns have empty data cells, filled with '?' by the researchers__  \n",
    "  \n",
    "### Resulting Matrix: \n",
    "We will need to do some feature engineering to make the data opperable for the qr decomposition processes to get our model. Thus, the resulting matrix should look like the following:  \n",
    "* Column 1: a ones vector \n",
    "* Column 2: (*Directly from the data*)\n",
    "    * age \n",
    "* Column 3 - 10: (*entries will be either 1 for true or 0 for false*)\n",
    "    * Private \n",
    "    * Self-emp-not-inc \n",
    "    * Self-emp-inc \n",
    "    * Federal-gov\n",
    "    * Local-gov\n",
    "    * State-gov \n",
    "    * Without-pay\n",
    "    * Never-worked\n",
    "* Column 11 - 26: (*entries will be either 1 for true or 0 for false*)\n",
    "    * Bachelors \n",
    "    * Some-college\n",
    "    * 11th \n",
    "    * HS-grad \n",
    "    * Prof-school\n",
    "    * Assoc-acdm \n",
    "    * Assoc-voc \n",
    "    * 9th \n",
    "    * 7th-8th \n",
    "    * 12th\n",
    "    * Masters \n",
    "    * 1st-4th\n",
    "    * 10th \n",
    "    * Doctorate \n",
    "    * 5th-6th \n",
    "    * Preschool\n",
    "* Column 27: (*Directly from the data*)\n",
    "    * Education number \n",
    "* Column 28 - 34: (*entries will be either 1 for true or 0 for false*)\n",
    "    * Married-civ-spouse\n",
    "    * Divorced\n",
    "    * Never-married\n",
    "    * Separated\n",
    "    * Widowed\n",
    "    * Married-spouse-absent\n",
    "    * Married-AF-spouse\n",
    "* Column 35 - 48: (*entries will be either 1 for true or 0 for false*) \n",
    "    * Tech-support\n",
    "    * Craft-repair\n",
    "    * Other-service\n",
    "    * Sales\n",
    "    * Exec-managerial\n",
    "    * Prof-specialty\n",
    "    * Handlers-cleaners\n",
    "    * Machine-op-inspct\n",
    "    * Adm-clerical\n",
    "    * Farming-fishing\n",
    "    * Transport-moving\n",
    "    * Priv-house-serv\n",
    "    * Protective-serv\n",
    "    * Armed-Forces\n",
    "* Column 49 - 54: (*entries will be either 1 for true or 0 for false*) \n",
    "    * Wife\n",
    "    * Own-child\n",
    "    * Husband\n",
    "    * Not-in-family\n",
    "    * Other-relative\n",
    "    * Unmarried\n",
    "* Column 55 - 59: (*entries will be either 1 for true or 0 for false*)\n",
    "    * White\n",
    "    * Asian-Pac-Islander\n",
    "    * Amer-Indian-Eskimo\n",
    "    * Other\n",
    "    * Black\n",
    "* Column 60 - 61: (*entries will be either 1 for true or 0 for false*)\n",
    "    * male \n",
    "    * female \n",
    "* Column 62: (*Directly from the data*)\n",
    "    * capital-gain \n",
    "* Column 63: (*Directly from the data*)\n",
    "    * capital-loss  \n",
    "* Column 64: (*Directly from the data*)\n",
    "    * hours per week  \n",
    "* Column 65 - 105: (*entries will be either 1 for true or 0 for false*)\n",
    "    * United-States\n",
    "    * Cambodia\n",
    "    * England\n",
    "    * Puerto-Rico\n",
    "    * Canada\n",
    "    * Germany\n",
    "    * Outlying-US(Guam-USVI-etc)\n",
    "    * India\n",
    "    * Japan\n",
    "    * Greece\n",
    "    * South\n",
    "    * China\n",
    "    * Cuba\n",
    "    * Iran\n",
    "    * Honduras\n",
    "    * Philippines\n",
    "    * Italy\n",
    "    * Poland\n",
    "    * Jamaica\n",
    "    * Vietnam\n",
    "    * Mexico\n",
    "    * Portugal\n",
    "    * Ireland\n",
    "    * France\n",
    "    * Dominican-Republic\n",
    "    * Laos\n",
    "    * Ecuador\n",
    "    * Taiwan\n",
    "    * Haiti\n",
    "    * Columbia\n",
    "    * Hungary\n",
    "    * Guatemala\n",
    "    * Nicaragua\n",
    "    * Scotland\n",
    "    * Thailand\n",
    "    * Yugoslavia\n",
    "    * El-Salvador\n",
    "    * Trinadad&Tobago\n",
    "    * Peru\n",
    "    * Hong\n",
    "    * Holand-Netherlands  \n",
    "    \n",
    "### Methodology: \n",
    "We will use QR decomposition to obtain the x hats for the equation:  \n",
    "$$f(a) = 1 + \\hat{x}_{1}x_{1} + \\hat{x}_{2}x_{2} + ... + \\hat{x}_{105}x_{105}$$  \n",
    "  \n",
    "Only the first 80% of the data will be used to create the model, and the model will be tested on the final 20% of the data. "
   ]
  },
  {
   "cell_type": "code",
   "execution_count": 28,
   "id": "0b615289-f15b-4cba-ba04-0c7e382b56a3",
   "metadata": {},
   "outputs": [
    {
     "data": {
      "text/plain": [
       "26049"
      ]
     },
     "execution_count": 28,
     "metadata": {},
     "output_type": "execute_result"
    }
   ],
   "source": [
    "using DataFrames \n",
    "using CSV \n",
    "dataSet = CSV.read(\"CensusData1994.csv\", DataFrame; header = false)\n",
    "X = Matrix(dataSet[:,1:15])\n",
    "m,n=size(X)\n",
    "#80% of the data is 26,048.8 rows, round up for 26,049.\n",
    "#20% is therefore 6512\n",
    "m1 = 26049"
   ]
  },
  {
   "cell_type": "code",
   "execution_count": 29,
   "id": "8e590fba-ee9f-4d53-a568-f03c8badab3e",
   "metadata": {},
   "outputs": [],
   "source": [
    "employmentDict = [\"Private\", \"Self-emp-not-inc\", \"Self-emp-inc\", \"Federal-gov\", \"Local-gov\", \"State-gov\", \"Without-pay\", \"Never-worked\"];\n",
    "educationDict = [\"Bachelors\", \"Some-college\", \"11th\", \"HS-grad\", \"Prof-school\", \"Assoc-acdm\", \"Assoc-voc\", \"9th\", \"7th-8th\", \"12th\", \"Masters\", \"1st-4th\", \"10th\", \"Doctorate\", \"5th-6th\", \"Preschool\"];\n",
    "maritalStatusDict = [\"Married-civ-spouse\", \"Divorced\", \"Never-married\", \"Separated\", \"Widowed\", \"Married-spouse-absent\", \"Married-AF-spouse\"];\n",
    "occupationDict = [\"Tech-support\", \"Craft-repair\", \"Other-service\", \"Sales\", \"Exec-managerial\", \"Prof-specialty\", \"Handlers-cleaners\", \"Machine-op-inspct\", \"Adm-clerical\", \"Farming-fishing\", \"Transport-moving\", \"Priv-house-serv\", \"Protective-serv\", \"Armed-Forces\"];\n",
    "relationshipDict = [\"Wife\", \"Own-child\", \"Husband\", \"Not-in-family\", \"Other-relative\", \"Unmarried\"];\n",
    "raceDict = [\"White\", \"Asian-Pac-Islander\", \"Amer-Indian-Eskimo\", \"Other\", \"Black\"];\n",
    "sexDict = [\"Male\",\"Female\"];\n",
    "countryDict = [\"United-States\", \"Cambodia\", \"England\", \"Puerto-Rico\", \"Canada\", \"Germany\", \"Outlying-US(Guam-USVI-etc)\", \"India\", \"Japan\", \"Greece\", \"South\", \"China\", \"Cuba\", \"Iran\", \"Honduras\", \"Philippines\", \"Italy\", \"Poland\", \"Jamaica\", \"Vietnam\", \"Mexico\", \"Portugal\", \"Ireland\", \"France\", \"Dominican-Republic\", \"Laos\", \"Ecuador\", \"Taiwan\", \"Haiti\", \"Columbia\", \"Hungary\", \"Guatemala\", \"Nicaragua\", \"Scotland\", \"Thailand\", \"Yugoslavia\", \"El-Salvador\", \"Trinadad&Tobago\", \"Peru\", \"Hong\", \"Holand-Netherlands\"];"
   ]
  },
  {
   "cell_type": "code",
   "execution_count": 30,
   "id": "3c18ff78-adf9-4766-ae5c-0d485f10ff3d",
   "metadata": {},
   "outputs": [],
   "source": [
    "firstCol = ones(m1);\n",
    "age = X[1:m1,1];\n",
    "educationNum = X[1:m1,5];\n",
    "capGain = X[1:m1, 11];\n",
    "capLoss = X[1:m1, 12];\n",
    "hours = X[1:m1,13];\n",
    "income = X[1:m1,15]; \n",
    "y = zeros(m1);\n",
    "for k in 1:m1\n",
    "   if strip(income[k]) == \">50K\"\n",
    "        y[k] = 1\n",
    "    end\n",
    "end"
   ]
  },
  {
   "cell_type": "code",
   "execution_count": 31,
   "id": "1b69e379-861e-4516-b006-4fa4fabf70c7",
   "metadata": {},
   "outputs": [
    {
     "data": {
      "text/plain": [
       "createDataMatrix (generic function with 1 method)"
      ]
     },
     "execution_count": 31,
     "metadata": {},
     "output_type": "execute_result"
    }
   ],
   "source": [
    "function createDataMatrix(dict, m, n, col, X)\n",
    "    matrix = zeros(m,n);\n",
    "    for i in 1:m \n",
    "        for j in 1:n\n",
    "            if strip(X[i,col]) == dict[j]\n",
    "                matrix[i,j] = 1\n",
    "            end \n",
    "        end \n",
    "    end \n",
    "    return matrix \n",
    "end "
   ]
  },
  {
   "cell_type": "code",
   "execution_count": 32,
   "id": "58d8797d-e4ab-4471-9168-a462091d0d5b",
   "metadata": {},
   "outputs": [],
   "source": [
    "employmentMatrix = createDataMatrix(employmentDict, m1, length(employmentDict), 2, X);\n",
    "educationMatrix = createDataMatrix(educationDict, m1, length(educationDict), 4, X);\n",
    "maritalStatusMatrix = createDataMatrix(maritalStatusDict, m1, length(maritalStatusDict), 6, X);\n",
    "occupationMatrix = createDataMatrix(occupationDict, m1, length(occupationDict), 7, X);\n",
    "relationshipMatrix = createDataMatrix(relationshipDict, m1, length(relationshipDict), 8, X);\n",
    "raceMatrix = createDataMatrix(raceDict, m1, length(raceDict), 9, X);\n",
    "sexMatrix = createDataMatrix(sexDict, m1, length(sexDict), 10, X);\n",
    "countryMatrix = createDataMatrix(countryDict, m1, length(countryDict), 14, X);"
   ]
  },
  {
   "cell_type": "code",
   "execution_count": 33,
   "id": "9794e52e-b4b8-4c1a-9e6d-447cf8697ee9",
   "metadata": {},
   "outputs": [
    {
     "data": {
      "text/plain": [
       "26049×8 Matrix{Float64}:\n",
       " 0.0  0.0  0.0  0.0  0.0  1.0  0.0  0.0\n",
       " 0.0  1.0  0.0  0.0  0.0  0.0  0.0  0.0\n",
       " 1.0  0.0  0.0  0.0  0.0  0.0  0.0  0.0\n",
       " 1.0  0.0  0.0  0.0  0.0  0.0  0.0  0.0\n",
       " 1.0  0.0  0.0  0.0  0.0  0.0  0.0  0.0\n",
       " 1.0  0.0  0.0  0.0  0.0  0.0  0.0  0.0\n",
       " 1.0  0.0  0.0  0.0  0.0  0.0  0.0  0.0\n",
       " 0.0  1.0  0.0  0.0  0.0  0.0  0.0  0.0\n",
       " 1.0  0.0  0.0  0.0  0.0  0.0  0.0  0.0\n",
       " 1.0  0.0  0.0  0.0  0.0  0.0  0.0  0.0\n",
       " 1.0  0.0  0.0  0.0  0.0  0.0  0.0  0.0\n",
       " 0.0  0.0  0.0  0.0  0.0  1.0  0.0  0.0\n",
       " 1.0  0.0  0.0  0.0  0.0  0.0  0.0  0.0\n",
       " ⋮                        ⋮         \n",
       " 1.0  0.0  0.0  0.0  0.0  0.0  0.0  0.0\n",
       " 1.0  0.0  0.0  0.0  0.0  0.0  0.0  0.0\n",
       " 1.0  0.0  0.0  0.0  0.0  0.0  0.0  0.0\n",
       " 0.0  0.0  0.0  0.0  0.0  0.0  0.0  0.0\n",
       " 1.0  0.0  0.0  0.0  0.0  0.0  0.0  0.0\n",
       " 1.0  0.0  0.0  0.0  0.0  0.0  0.0  0.0\n",
       " 1.0  0.0  0.0  0.0  0.0  0.0  0.0  0.0\n",
       " 1.0  0.0  0.0  0.0  0.0  0.0  0.0  0.0\n",
       " 1.0  0.0  0.0  0.0  0.0  0.0  0.0  0.0\n",
       " 1.0  0.0  0.0  0.0  0.0  0.0  0.0  0.0\n",
       " 0.0  0.0  0.0  0.0  0.0  1.0  0.0  0.0\n",
       " 1.0  0.0  0.0  0.0  0.0  0.0  0.0  0.0"
      ]
     },
     "execution_count": 33,
     "metadata": {},
     "output_type": "execute_result"
    }
   ],
   "source": [
    "employmentMatrix"
   ]
  },
  {
   "cell_type": "code",
   "execution_count": 34,
   "id": "b118f003-606d-4a1c-b7a1-6d4e0a153d05",
   "metadata": {},
   "outputs": [
    {
     "data": {
      "text/plain": [
       "26049×105 Matrix{Float64}:\n",
       " 1.0  39.0  0.0  0.0  0.0  0.0  0.0  …  0.0  0.0  0.0  0.0  0.0  0.0  0.0\n",
       " 1.0  50.0  0.0  1.0  0.0  0.0  0.0     0.0  0.0  0.0  0.0  0.0  0.0  0.0\n",
       " 1.0  38.0  1.0  0.0  0.0  0.0  0.0     0.0  0.0  0.0  0.0  0.0  0.0  0.0\n",
       " 1.0  53.0  1.0  0.0  0.0  0.0  0.0     0.0  0.0  0.0  0.0  0.0  0.0  0.0\n",
       " 1.0  28.0  1.0  0.0  0.0  0.0  0.0     0.0  0.0  0.0  0.0  0.0  0.0  0.0\n",
       " 1.0  37.0  1.0  0.0  0.0  0.0  0.0  …  0.0  0.0  0.0  0.0  0.0  0.0  0.0\n",
       " 1.0  49.0  1.0  0.0  0.0  0.0  0.0     0.0  0.0  0.0  0.0  0.0  0.0  0.0\n",
       " 1.0  52.0  0.0  1.0  0.0  0.0  0.0     0.0  0.0  0.0  0.0  0.0  0.0  0.0\n",
       " 1.0  31.0  1.0  0.0  0.0  0.0  0.0     0.0  0.0  0.0  0.0  0.0  0.0  0.0\n",
       " 1.0  42.0  1.0  0.0  0.0  0.0  0.0     0.0  0.0  0.0  0.0  0.0  0.0  0.0\n",
       " 1.0  37.0  1.0  0.0  0.0  0.0  0.0  …  0.0  0.0  0.0  0.0  0.0  0.0  0.0\n",
       " 1.0  30.0  0.0  0.0  0.0  0.0  0.0     0.0  0.0  0.0  0.0  0.0  0.0  0.0\n",
       " 1.0  23.0  1.0  0.0  0.0  0.0  0.0     0.0  0.0  0.0  0.0  0.0  0.0  0.0\n",
       " ⋮                         ⋮         ⋱            ⋮                   \n",
       " 1.0  29.0  1.0  0.0  0.0  0.0  0.0     0.0  0.0  0.0  0.0  0.0  0.0  0.0\n",
       " 1.0  65.0  1.0  0.0  0.0  0.0  0.0     0.0  0.0  0.0  0.0  0.0  0.0  0.0\n",
       " 1.0  33.0  1.0  0.0  0.0  0.0  0.0     0.0  0.0  0.0  0.0  0.0  0.0  0.0\n",
       " 1.0  29.0  0.0  0.0  0.0  0.0  0.0  …  0.0  0.0  0.0  0.0  0.0  0.0  0.0\n",
       " 1.0  18.0  1.0  0.0  0.0  0.0  0.0     0.0  0.0  0.0  0.0  0.0  0.0  0.0\n",
       " 1.0  43.0  1.0  0.0  0.0  0.0  0.0     0.0  0.0  0.0  0.0  0.0  0.0  0.0\n",
       " 1.0  42.0  1.0  0.0  0.0  0.0  0.0     0.0  0.0  0.0  0.0  0.0  0.0  0.0\n",
       " 1.0  42.0  1.0  0.0  0.0  0.0  0.0     0.0  0.0  0.0  0.0  0.0  0.0  0.0\n",
       " 1.0  32.0  1.0  0.0  0.0  0.0  0.0  …  0.0  0.0  0.0  0.0  0.0  0.0  0.0\n",
       " 1.0  36.0  1.0  0.0  0.0  0.0  0.0     0.0  0.0  0.0  0.0  0.0  0.0  0.0\n",
       " 1.0  41.0  0.0  0.0  0.0  0.0  0.0     0.0  0.0  0.0  0.0  0.0  0.0  0.0\n",
       " 1.0  30.0  1.0  0.0  0.0  0.0  0.0     0.0  0.0  0.0  0.0  0.0  0.0  0.0"
      ]
     },
     "execution_count": 34,
     "metadata": {},
     "output_type": "execute_result"
    }
   ],
   "source": [
    "a = [firstCol age employmentMatrix educationMatrix educationNum maritalStatusMatrix occupationMatrix relationshipMatrix raceMatrix sexMatrix capGain capLoss hours countryMatrix]\n",
    "A = convert(Matrix{Float64}, a)"
   ]
  },
  {
   "cell_type": "code",
   "execution_count": 35,
   "id": "a06fe84f-a138-4b03-93c2-3ca5b0d8a696",
   "metadata": {},
   "outputs": [
    {
     "data": {
      "text/plain": [
       "105-element Vector{Float64}:\n",
       "  2.0810773877263105e12\n",
       "  0.0024652077065681183\n",
       "  1.4720418421792422e11\n",
       "  1.472041842178606e11\n",
       "  1.472041842179807e11\n",
       "  1.4720418421798953e11\n",
       "  1.4720418421789096e11\n",
       "  1.4720418421788544e11\n",
       "  1.4720418421781647e11\n",
       "  0.0987890974708189\n",
       " -4.1694477573199615e11\n",
       " -5.4221479994124e11\n",
       " -6.674848241504244e11\n",
       "  ⋮\n",
       " -0.038810637503083195\n",
       " -0.06602105504624921\n",
       "  0.05791058244568107\n",
       " -0.0024808268466938693\n",
       " -0.05641142718242209\n",
       "  0.025582033401511092\n",
       "  0.1382223461642015\n",
       "  0.05138051060452354\n",
       " -0.05327900839839017\n",
       " -0.005465225154119248\n",
       "  0.05412840043737516\n",
       " -0.1223583717288264"
      ]
     },
     "execution_count": 35,
     "metadata": {},
     "output_type": "execute_result"
    }
   ],
   "source": [
    "using LinearAlgebra \n",
    "Q,R = qr(A); Q = Matrix(Q)\n",
    "xhat = R\\(Q'*y)"
   ]
  },
  {
   "cell_type": "code",
   "execution_count": 63,
   "id": "b5ba7e86-896e-4c65-9e47-6e19e2f48b86",
   "metadata": {},
   "outputs": [
    {
     "name": "stdout",
     "output_type": "stream",
     "text": [
      "2.0810773877263105e12\n",
      "0.0024652077065681183\n",
      "1.4720418421792422e11\n",
      "1.472041842178606e11\n",
      "1.472041842179807e11\n",
      "1.4720418421798953e11\n",
      "1.4720418421789096e11\n",
      "1.4720418421788544e11\n",
      "1.4720418421781647e11\n",
      "0.0987890974708189\n",
      "-4.1694477573199615e11\n",
      "-5.4221479994124e11\n",
      "-6.674848241504244e11\n",
      "-5.83971474677664e11\n",
      "-3.334314262590947e11\n",
      "-4.5870145046846655e11\n",
      "-5.0045812520484235e11\n",
      "-7.509981736232513e11\n",
      "-7.927548483596404e11\n",
      "-6.257281494140234e11\n",
      "-3.751881009955277e11\n",
      "-8.76268197832367e11\n",
      "-7.092414988868118e11\n",
      "-2.916747515226704e11\n",
      "-8.345115230959884e11\n",
      "-9.180248725687323e11\n",
      "-4.175667473637602e10\n",
      "-1.2020464063840967e12\n",
      "-1.2020464063841987e12\n",
      "-1.2020464063842004e12\n",
      "-1.2020464063841782e12\n",
      "-1.2020464063841768e12\n",
      "-1.202046406384184e12\n",
      "-1.2020464063840571e12\n",
      "-1.472041842177999e11\n",
      "-1.4720418421789023e11\n",
      "-1.4720418421790408e11\n",
      "-1.4720418421783838e11\n",
      "-1.4720418421775223e11\n",
      "-1.472041842178124e11\n",
      "-1.4720418421793384e11\n",
      "-1.4720418421792892e11\n",
      "-1.472041842178804e11\n",
      "-1.472041842179823e11\n",
      "-1.4720418421791437e11\n",
      "-1.472041842178792e11\n",
      "-1.47204184217811e11\n",
      "-1.4720418421802167e11\n",
      "-3.3412641510933594e12\n",
      "-3.341264151093632e12\n",
      "-3.341264151093479e12\n",
      "-3.3412641510936514e12\n",
      "-3.341264151093619e12\n",
      "-3.341264151093635e12\n",
      "6.834182726110638e11\n",
      "6.834182726110448e11\n",
      "6.834182726110232e11\n",
      "6.834182726110178e11\n",
      "6.834182726110529e11\n",
      "2.738596444445252e12\n",
      "2.738596444445193e12\n",
      "7.754801381277182e-6\n",
      "9.043129186359322e-5\n",
      "0.002799087772515685\n",
      "0.05948395451334626\n",
      "0.09490318147806917\n",
      "0.09520587385787392\n",
      "0.028216545951608905\n",
      "0.09500962023759214\n",
      "0.11036572646689714\n",
      "-0.08465324752169523\n",
      "-0.016799999304066813\n",
      "0.12385193488932358\n",
      "-0.05480988222302377\n",
      "-0.01420899439905879\n",
      "-0.04671125323831424\n",
      "0.03797922443113493\n",
      "0.04739546686208441\n",
      "0.03304866667931257\n",
      "0.0655525731299679\n",
      "0.16212562851728368\n",
      "0.019480464432770895\n",
      "0.0680297486957818\n",
      "-0.04585023423798828\n",
      "0.008879048897375308\n",
      "0.02067744705011245\n",
      "0.1521776048519988\n",
      "0.1196392966406308\n",
      "-0.005402849280578092\n",
      "-0.07280189454475318\n",
      "-0.02642461960467168\n",
      "0.016204143989007342\n",
      "0.016715185026868657\n",
      "-0.038810637503083195\n",
      "-0.06602105504624921\n",
      "0.05791058244568107\n",
      "-0.0024808268466938693\n",
      "-0.05641142718242209\n",
      "0.025582033401511092\n",
      "0.1382223461642015\n",
      "0.05138051060452354\n",
      "-0.05327900839839017\n",
      "-0.005465225154119248\n",
      "0.05412840043737516\n",
      "-0.1223583717288264\n"
     ]
    }
   ],
   "source": [
    "for x in 1:105\n",
    "    println(xhat[x])\n",
    "end"
   ]
  },
  {
   "cell_type": "code",
   "execution_count": 36,
   "id": "b42fa60d-e5e4-4d4d-afc2-0c3249e9e4c8",
   "metadata": {},
   "outputs": [
    {
     "data": {
      "text/plain": [
       "26049-element Vector{Float64}:\n",
       "  0.17951734111687026\n",
       "  0.4938213143060502\n",
       " -0.016540815836026332\n",
       "  0.27545137166397365\n",
       "  0.5464271103317623\n",
       "  0.7539669966639737\n",
       " -0.15720437819396724\n",
       "  0.4242124355265521\n",
       "  0.4204733720430383\n",
       "  0.653496358216227\n",
       "  0.5861453513146011\n",
       "  0.38959710534656056\n",
       "  0.09462846268881682\n",
       "  ⋮\n",
       "  0.35699434041397365\n",
       "  0.7732857383635066\n",
       "  0.03326387166397367\n",
       " -0.030212690836026332\n",
       " -0.04746138106118318\n",
       "  0.49078340291397365\n",
       "  0.16412324666397365\n",
       "  0.28717012166397365\n",
       "  0.2152339314388168\n",
       "  0.12164277791397367\n",
       "  0.34185762166397365\n",
       "  6.0746663973668125e-5"
      ]
     },
     "execution_count": 36,
     "metadata": {},
     "output_type": "execute_result"
    }
   ],
   "source": [
    "#test on seen data\n",
    "seenTest = ones(m1).*xhat[1]\n",
    "for k in 2:105 \n",
    "    seenTest += xhat[k].*A[:,k]\n",
    "end \n",
    "seenTest"
   ]
  },
  {
   "cell_type": "code",
   "execution_count": 37,
   "id": "2730c89f-7e36-4fa5-ac64-1ca3bba73bde",
   "metadata": {},
   "outputs": [
    {
     "data": {
      "text/plain": [
       "26049-element Vector{Float64}:\n",
       " 0.0\n",
       " 0.0\n",
       " 0.0\n",
       " 0.0\n",
       " 1.0\n",
       " 1.0\n",
       " 0.0\n",
       " 0.0\n",
       " 0.0\n",
       " 1.0\n",
       " 1.0\n",
       " 0.0\n",
       " 0.0\n",
       " ⋮\n",
       " 0.0\n",
       " 1.0\n",
       " 0.0\n",
       " 0.0\n",
       " 0.0\n",
       " 0.0\n",
       " 0.0\n",
       " 0.0\n",
       " 0.0\n",
       " 0.0\n",
       " 0.0\n",
       " 0.0"
      ]
     },
     "execution_count": 37,
     "metadata": {},
     "output_type": "execute_result"
    }
   ],
   "source": [
    "seenResult = zeros(m1)\n",
    "for i in 1:m1\n",
    "    if seenTest[i] > 0.5 \n",
    "        seenResult[i] = 1\n",
    "    end \n",
    "end \n",
    "seenResult "
   ]
  },
  {
   "cell_type": "code",
   "execution_count": 38,
   "id": "d256cf1e-2dde-4487-b45d-c84838f33bc7",
   "metadata": {},
   "outputs": [
    {
     "data": {
      "text/plain": [
       "21883"
      ]
     },
     "execution_count": 38,
     "metadata": {},
     "output_type": "execute_result"
    }
   ],
   "source": [
    "#comparison between seen data and actual data \n",
    "totalSeenCorrect = 0\n",
    "for i in 1:m1 \n",
    "    if seenResult[i] - y[i] == 0 \n",
    "        totalSeenCorrect += 1\n",
    "    end \n",
    "end \n",
    "totalSeenCorrect"
   ]
  },
  {
   "cell_type": "code",
   "execution_count": 39,
   "id": "f33403ca-a81b-45a6-bc62-1ea68b0c8732",
   "metadata": {},
   "outputs": [
    {
     "data": {
      "text/plain": [
       "createUnseenDataMatrix (generic function with 1 method)"
      ]
     },
     "execution_count": 39,
     "metadata": {},
     "output_type": "execute_result"
    }
   ],
   "source": [
    "function createUnseenDataMatrix(dict, m1, m, n, col, X)\n",
    "    matrix = zeros(m-m1,n);\n",
    "    for i in m1:m \n",
    "        for j in 1:n\n",
    "            if strip(X[i,col]) == dict[j] && i < m\n",
    "                matrix[i-m1+1,j] = 1\n",
    "            end \n",
    "        end \n",
    "    end \n",
    "    return matrix \n",
    "end "
   ]
  },
  {
   "cell_type": "code",
   "execution_count": 40,
   "id": "f5f0935d-c04e-4807-8f0c-609f0044dd5f",
   "metadata": {},
   "outputs": [
    {
     "data": {
      "text/plain": [
       "6512-element Vector{Any}:\n",
       " 21\n",
       " 33\n",
       " 19\n",
       " 19\n",
       " 35\n",
       " 43\n",
       " 45\n",
       " 25\n",
       " 39\n",
       " 26\n",
       " 60\n",
       " 52\n",
       " 22\n",
       "  ⋮\n",
       " 43\n",
       " 43\n",
       " 32\n",
       " 43\n",
       " 32\n",
       " 53\n",
       " 22\n",
       " 27\n",
       " 40\n",
       " 58\n",
       " 22\n",
       " 52"
      ]
     },
     "execution_count": 40,
     "metadata": {},
     "output_type": "execute_result"
    }
   ],
   "source": [
    "ageU"
   ]
  },
  {
   "cell_type": "code",
   "execution_count": 41,
   "id": "6ca68ba1-c50b-4def-90c5-d394c1eaee64",
   "metadata": {},
   "outputs": [],
   "source": [
    "firstColU = ones(m-m1);\n",
    "ageU = X[m1+1:m,1];\n",
    "educationNumU = X[m1+1:m,5];\n",
    "capGainU = X[m1+1:m, 11];\n",
    "capLossU = X[m1+1:m, 12];\n",
    "hoursU = X[m1+1:m,13];\n",
    "incomeU = X[m1+1:m,15]; \n",
    "employmentMatrixU = createUnseenDataMatrix(employmentDict, m1, m, length(employmentDict), 2, X);\n",
    "educationMatrixU = createUnseenDataMatrix(educationDict, m1, m, length(educationDict), 4, X);\n",
    "maritalStatusMatrixU = createUnseenDataMatrix(maritalStatusDict, m1, m, length(maritalStatusDict), 6, X);\n",
    "occupationMatrixU = createUnseenDataMatrix(occupationDict, m1, m, length(occupationDict), 7, X);\n",
    "relationshipMatrixU = createUnseenDataMatrix(relationshipDict, m1, m, length(relationshipDict), 8, X);\n",
    "raceMatrixU = createUnseenDataMatrix(raceDict, m1, m, length(raceDict), 9, X);\n",
    "sexMatrixU = createUnseenDataMatrix(sexDict, m1, m, length(sexDict), 10, X);\n",
    "countryMatrixU = createUnseenDataMatrix(countryDict, m1, m, length(countryDict), 14, X);"
   ]
  },
  {
   "cell_type": "code",
   "execution_count": 42,
   "id": "9bbc1ff6-71c6-4b83-87b8-d10dbb1f99e7",
   "metadata": {},
   "outputs": [
    {
     "data": {
      "text/plain": [
       "6512-element Vector{Float64}:\n",
       "  4.175667473634007e10\n",
       " -4.175667473635736e10\n",
       "  0.19766167735108153\n",
       "  4.175667473634626e10\n",
       " -0.006286909586026332\n",
       "  0.0012020265513952438\n",
       "  0.0363300298037227\n",
       " -1.6702669894524197e11\n",
       "  0.33843965291397365\n",
       "  1.6702669894601422e11\n",
       " -2.0878337368192767e11\n",
       " -8.351334947218402e10\n",
       "  3.340533978917089e11\n",
       "  ⋮\n",
       "  2.0878337368224567e11\n",
       "  0.0593016243891305\n",
       "  1.6702669894577545e11\n",
       " -2.0878337368165637e11\n",
       " -1.2527002420880084e11\n",
       "  0.3464293736396347\n",
       "  1.6702669894616022e11\n",
       " -8.3513349472632e10\n",
       "  1.2527002420965485e11\n",
       "  0.31256074666397365\n",
       " -0.07887022753634004\n",
       "  0.20543607011628207"
      ]
     },
     "execution_count": 42,
     "metadata": {},
     "output_type": "execute_result"
    }
   ],
   "source": [
    "#test on unseen data \n",
    "test = ones(m-m1).*xhat[1]\n",
    "testD = [firstColU ageU employmentMatrixU educationMatrixU educationNumU maritalStatusMatrixU occupationMatrixU relationshipMatrixU raceMatrixU sexMatrixU capGainU capLossU hoursU countryMatrixU];\n",
    "testData = convert(Matrix{Float64}, testD);\n",
    "for k in 2:105\n",
    "    test += xhat[k].*testData[:,k]\n",
    "end\n",
    "test"
   ]
  },
  {
   "cell_type": "code",
   "execution_count": 43,
   "id": "f97934ae-1aa6-457b-afa7-58364d84ce29",
   "metadata": {},
   "outputs": [
    {
     "data": {
      "text/plain": [
       "3709"
      ]
     },
     "execution_count": 43,
     "metadata": {},
     "output_type": "execute_result"
    }
   ],
   "source": [
    "yU = zeros(m-m1)\n",
    "for i in 1:m-m1\n",
    "    if income[i] == \">50K\"\n",
    "        yU[i] = 1\n",
    "    end \n",
    "end \n",
    "\n",
    "unseenResult = zeros(m-m1)\n",
    "for i in 1:m-m1\n",
    "    if test[i] > 0.5 \n",
    "        unseenResult[i] = 1\n",
    "    end \n",
    "end \n",
    "\n",
    "#comparison between unseen data and actual data \n",
    "totalUnseenCorrect = 0\n",
    "for i in 1:m-m1 \n",
    "    if unseenResult[i] - yU[i] == 0 \n",
    "        totalUnseenCorrect += 1\n",
    "    end \n",
    "end \n",
    "totalUnseenCorrect"
   ]
  },
  {
   "cell_type": "code",
   "execution_count": 44,
   "id": "ed45fa65-7f73-4422-a478-d2d2b4df5fae",
   "metadata": {},
   "outputs": [
    {
     "name": "stdout",
     "output_type": "stream",
     "text": [
      "The percentage of correct predictions on seen data was 84.00706361088717\n"
     ]
    }
   ],
   "source": [
    "println(\"The percentage of correct predictions on seen data was \", (totalSeenCorrect/m1)*100)"
   ]
  },
  {
   "cell_type": "code",
   "execution_count": 45,
   "id": "b0b6a932-4fab-41aa-84e1-2a9ceb842db9",
   "metadata": {},
   "outputs": [
    {
     "name": "stdout",
     "output_type": "stream",
     "text": [
      "The percentage of correct predictions on unseen data was 56.95638820638821\n"
     ]
    }
   ],
   "source": [
    "println(\"The percentage of correct predictions on unseen data was \", (totalUnseenCorrect/(m-m1))*100)"
   ]
  },
  {
   "cell_type": "code",
   "execution_count": 46,
   "id": "43482368-98cf-4469-9d77-1c3be08d08c9",
   "metadata": {},
   "outputs": [
    {
     "data": {
      "text/plain": [
       "(9, 15)"
      ]
     },
     "execution_count": 46,
     "metadata": {},
     "output_type": "execute_result"
    }
   ],
   "source": [
    "dataSet = CSV.read(\"CensusData2023.csv\", DataFrame; header = false)\n",
    "X = Matrix(dataSet[:,1:15])\n",
    "m,n = size(X)"
   ]
  },
  {
   "cell_type": "code",
   "execution_count": 47,
   "id": "618b9a33-1dbb-4a66-9f5a-fca1c157a78b",
   "metadata": {},
   "outputs": [],
   "source": [
    "employmentMatrix23 = createDataMatrix(employmentDict, m, length(employmentDict), 2, X);\n",
    "educationMatrix23 = createDataMatrix(educationDict, m, length(educationDict), 4, X);\n",
    "maritalStatusMatrix23 = createDataMatrix(maritalStatusDict, m, length(maritalStatusDict), 6, X);\n",
    "occupationMatrix23 = createDataMatrix(occupationDict, m, length(occupationDict), 7, X);\n",
    "relationshipMatrix23 = createDataMatrix(relationshipDict, m, length(relationshipDict), 8, X);\n",
    "raceMatrix23 = createDataMatrix(raceDict, m, length(raceDict), 9, X);\n",
    "sexMatrix23 = createDataMatrix(sexDict, m, length(sexDict), 10, X);\n",
    "countryMatrix23 = createDataMatrix(countryDict, m, length(countryDict), 14, X);"
   ]
  },
  {
   "cell_type": "code",
   "execution_count": 48,
   "id": "40e80467-bf2c-42fc-a36b-816ab66cc48a",
   "metadata": {},
   "outputs": [],
   "source": [
    "firstCol = ones(m);\n",
    "age = X[1:m,1];\n",
    "educationNum = zeros(m);\n",
    "capGain = X[1:m, 11];\n",
    "capLoss = X[1:m, 12];\n",
    "hours = X[1:m,13];\n",
    "income = X[1:m,15]; \n",
    "y23 = zeros(m);"
   ]
  },
  {
   "cell_type": "code",
   "execution_count": 49,
   "id": "81cf2acc-017c-4f41-b82f-0621dddfd029",
   "metadata": {},
   "outputs": [
    {
     "data": {
      "text/plain": [
       "9-element Vector{Float64}:\n",
       " 0.0\n",
       " 0.0\n",
       " 0.0\n",
       " 0.0\n",
       " 1.0\n",
       " 0.0\n",
       " 0.0\n",
       " 0.0\n",
       " 1.0"
      ]
     },
     "execution_count": 49,
     "metadata": {},
     "output_type": "execute_result"
    }
   ],
   "source": [
    "for i in 1:m\n",
    "    if income[i] == \">=100k\"\n",
    "        y23[i] = 1\n",
    "    end\n",
    "end\n",
    "y23"
   ]
  },
  {
   "cell_type": "code",
   "execution_count": 50,
   "id": "e4966bda-c102-4d9d-b805-2debe4cc17a0",
   "metadata": {},
   "outputs": [
    {
     "data": {
      "text/plain": [
       "9-element Vector{Any}:\n",
       " 22\n",
       " 23\n",
       "  0\n",
       " 20\n",
       " 50\n",
       " 49\n",
       " 24\n",
       " 22\n",
       " 23"
      ]
     },
     "execution_count": 50,
     "metadata": {},
     "output_type": "execute_result"
    }
   ],
   "source": [
    "age"
   ]
  },
  {
   "cell_type": "code",
   "execution_count": 51,
   "id": "9bf32c7c-ec1d-406c-b9b3-516cd544e57f",
   "metadata": {},
   "outputs": [
    {
     "data": {
      "text/plain": [
       "9-element Vector{Float64}:\n",
       " 22.0\n",
       " 23.0\n",
       "  0.0\n",
       " 20.0\n",
       " 50.0\n",
       " 49.0\n",
       " 24.0\n",
       " 22.0\n",
       " 23.0"
      ]
     },
     "execution_count": 51,
     "metadata": {},
     "output_type": "execute_result"
    }
   ],
   "source": [
    "age = convert(Vector{Float64}, age)"
   ]
  },
  {
   "cell_type": "code",
   "execution_count": 52,
   "id": "c13eb1b1-1e51-43e5-a0a1-8b5660186fc9",
   "metadata": {},
   "outputs": [
    {
     "data": {
      "text/plain": [
       "9×105 Matrix{Float64}:\n",
       " 1.0  22.0  1.0  0.0  0.0  0.0  0.0  …  0.0  0.0  0.0  0.0  0.0  0.0  0.0\n",
       " 1.0  23.0  1.0  0.0  0.0  0.0  0.0     0.0  0.0  0.0  0.0  0.0  0.0  0.0\n",
       " 1.0   0.0  1.0  0.0  0.0  0.0  0.0     0.0  0.0  0.0  0.0  0.0  0.0  0.0\n",
       " 1.0  20.0  0.0  0.0  1.0  0.0  0.0     0.0  0.0  0.0  0.0  0.0  0.0  0.0\n",
       " 1.0  50.0  1.0  0.0  0.0  0.0  0.0     0.0  0.0  0.0  0.0  0.0  0.0  0.0\n",
       " 1.0  49.0  0.0  0.0  0.0  0.0  0.0  …  0.0  0.0  0.0  0.0  0.0  0.0  0.0\n",
       " 1.0  24.0  0.0  0.0  0.0  0.0  0.0     0.0  0.0  0.0  0.0  0.0  0.0  0.0\n",
       " 1.0  22.0  1.0  0.0  0.0  0.0  0.0     0.0  0.0  0.0  0.0  0.0  0.0  0.0\n",
       " 1.0  23.0  1.0  0.0  0.0  0.0  0.0     0.0  0.0  0.0  0.0  0.0  0.0  0.0"
      ]
     },
     "execution_count": 52,
     "metadata": {},
     "output_type": "execute_result"
    }
   ],
   "source": [
    "a = [firstCol age employmentMatrix23 educationMatrix23 educationNum maritalStatusMatrix23 occupationMatrix23 relationshipMatrix23 raceMatrix23 sexMatrix23 capGain capLoss hours countryMatrix23]\n",
    "A = convert(Matrix{Float64}, a)"
   ]
  },
  {
   "cell_type": "code",
   "execution_count": 54,
   "id": "ab4cffd3-d10d-4862-940e-2ced6fe92a8d",
   "metadata": {},
   "outputs": [
    {
     "data": {
      "text/plain": [
       "9-element Vector{Float64}:\n",
       " 1.6777535107320286e12\n",
       " 1.803023534941368e12\n",
       " 1.8030235349413464e12\n",
       " 1.6777535107320579e12\n",
       " 1.8447802096780593e12\n",
       " 1.8447802096781409e12\n",
       " 1.6777535107321216e12\n",
       " 1.8030235349414182e12\n",
       " 1.8030235349414778e12"
      ]
     },
     "execution_count": 54,
     "metadata": {},
     "output_type": "execute_result"
    }
   ],
   "source": [
    "test23 = ones(m)\n",
    "for k in 2:105\n",
    "    test23 += xhat[k].*A[:,k]\n",
    "end\n",
    "test23"
   ]
  },
  {
   "cell_type": "code",
   "execution_count": 58,
   "id": "84a2d66d-6991-4b52-8e30-e18c0fe09881",
   "metadata": {},
   "outputs": [
    {
     "data": {
      "text/plain": [
       "9-element Vector{Float64}:\n",
       " 1.0\n",
       " 1.0\n",
       " 1.0\n",
       " 1.0\n",
       " 1.0\n",
       " 1.0\n",
       " 1.0\n",
       " 1.0\n",
       " 1.0"
      ]
     },
     "execution_count": 58,
     "metadata": {},
     "output_type": "execute_result"
    }
   ],
   "source": [
    "result23 = zeros(m)\n",
    "for i in 1:m \n",
    "    if test23[i] > 0.5\n",
    "        result23[i] = 1\n",
    "    end\n",
    "end\n",
    "result23"
   ]
  },
  {
   "cell_type": "markdown",
   "id": "110c785f-7eb8-4fc2-8e92-5ef2418bce12",
   "metadata": {},
   "source": [
    "The model guesses that every person from our survey makes more than the modern equivilent of 50k (which is 100k)"
   ]
  },
  {
   "cell_type": "code",
   "execution_count": null,
   "id": "fd760150-7394-40eb-9399-94c104377559",
   "metadata": {},
   "outputs": [],
   "source": []
  }
 ],
 "metadata": {
  "kernelspec": {
   "display_name": "Julia 1.8.4",
   "language": "julia",
   "name": "julia-1.8"
  },
  "language_info": {
   "file_extension": ".jl",
   "mimetype": "application/julia",
   "name": "julia",
   "version": "1.8.4"
  }
 },
 "nbformat": 4,
 "nbformat_minor": 5
}
